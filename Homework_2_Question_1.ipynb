{
  "nbformat": 4,
  "nbformat_minor": 0,
  "metadata": {
    "colab": {
      "provenance": [],
      "authorship_tag": "ABX9TyMm/WtlK1tp06dQacALk6Eh",
      "include_colab_link": true
    },
    "kernelspec": {
      "name": "python3",
      "display_name": "Python 3"
    },
    "language_info": {
      "name": "python"
    }
  },
  "cells": [
    {
      "cell_type": "markdown",
      "metadata": {
        "id": "view-in-github",
        "colab_type": "text"
      },
      "source": [
        "<a href=\"https://colab.research.google.com/github/sdgdsg213/CSV/blob/main/Homework_2_Question_1.ipynb\" target=\"_parent\"><img src=\"https://colab.research.google.com/assets/colab-badge.svg\" alt=\"Open In Colab\"/></a>"
      ]
    },
    {
      "cell_type": "code",
      "source": [
        "# Importing libraries\n",
        "import requests\n",
        "from bs4 import BeautifulSoup\n",
        "import pandas as pd\n",
        "\n",
        "# Declare URL\n",
        "url = 'https://en.wikipedia.org/wiki/List_of_countries_by_life_expectancy#CIA_World_Factbook_(2022)'\n",
        "\n",
        "# Request the html\n",
        "response = requests.get(url)\n",
        "if response.status_code == 200:\n",
        "  soup = BeautifulSoup(response.text, 'html.parser') # Imports the html into BeautifulSoup\n",
        "  table = soup.find_all('table', {'class': 'wikitable'}) # Uses BeautifulSoup to search all the tables on the URL\n",
        "  rows = table[3].find_all('tr') # Uses BeautifulSoup to search for all the rows of the 4th table on the URL\n",
        "  data = []\n",
        "  for row in rows: # Iterates through all the rows\n",
        "      cells = row.find_all(['th', 'td']) # Uses BeautifulSoup to search for the table header and table data\n",
        "      data.append([cell.text.strip() for cell in cells]) # Appends the table header and data into a list\n",
        "\n",
        "# Create DataFrame\n",
        "df = pd.DataFrame(data[1:], columns=data[0]) # Uses the first entry in the list as the column headers and all other entries as the data\n",
        "df = df.apply(pd.to_numeric, errors='ignore') # Converts the data into numeric\n",
        "print('Some statistics about the the life expectancy of males across all countries are as follows.')\n",
        "print(df['M'].describe()) # Prints out various statistics about the Male column\n",
        "print('\\n\\nSome statistics about the the life expectancy of females across all countries are as follows.')\n",
        "print(df['F'].describe()) # Prints out various statistics about the Female column\n"
      ],
      "metadata": {
        "colab": {
          "base_uri": "https://localhost:8080/"
        },
        "id": "IxceE5Vqr9Q2",
        "outputId": "f2ee6d27-cf1c-4273-c317-1cb7b6af8a56"
      },
      "execution_count": 1,
      "outputs": [
        {
          "output_type": "stream",
          "name": "stdout",
          "text": [
            "Some statistics about the the life expectancy of males across all countries are as follows.\n",
            "count    229.000000\n",
            "mean      72.084323\n",
            "std        6.649313\n",
            "min       52.100000\n",
            "25%       67.980000\n",
            "50%       73.250000\n",
            "75%       77.090000\n",
            "max       85.700000\n",
            "Name: M, dtype: float64\n",
            "\n",
            "\n",
            "Some statistics about the the life expectancy of females across all countries are as follows.\n",
            "count    229.000000\n",
            "mean      77.181048\n",
            "std        7.127402\n",
            "min       54.280000\n",
            "25%       72.600000\n",
            "50%       78.690000\n",
            "75%       82.510000\n",
            "max       93.490000\n",
            "Name: F, dtype: float64\n"
          ]
        }
      ]
    },
    {
      "cell_type": "code",
      "source": [
        "df.to_csv(\"Life Expectancy.csv\", index=False)"
      ],
      "metadata": {
        "id": "YiINtBL2wF-j"
      },
      "execution_count": 2,
      "outputs": []
    }
  ]
}